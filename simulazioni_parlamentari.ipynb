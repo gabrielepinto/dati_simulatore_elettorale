{
 "cells": [
  {
   "cell_type": "code",
   "execution_count": 270,
   "id": "1b5964e6-373e-44d0-a48a-f80a8f8d51e8",
   "metadata": {},
   "outputs": [],
   "source": [
    "## sostituire questa cartella con folder locale. la cartella può essere scaricata da qui:\n",
    "# https://github.com/gabrielepinto/dati_simulatore_elettorale/dati_app\n",
    "folder_head=\"D:\\\\database_vari_miei\\\\simulatore\\\\dati_app\\\\\"\n",
    "\n",
    "# importa moduli necessari\n",
    "# N.B. controllare che il file funzionisimulatore.py si trovi nella cartella. il modulo può essere scaricato da qui:\n",
    "# https://github.com/gabrielepinto/dati_simulatore_elettorale/\n",
    "from funzionisimulatore import *\n",
    "import pandas as pd\n",
    "import numpy as np\n",
    "import matplotlib.pyplot as plt\n",
    "import seaborn as sns"
   ]
  },
  {
   "cell_type": "markdown",
   "id": "a5cd24ab-1ac9-4a02-9948-1ac0b7ccae25",
   "metadata": {},
   "source": [
    "## importa dati"
   ]
  },
  {
   "cell_type": "code",
   "execution_count": 36,
   "id": "3760a8a1-21a1-489d-b911-3480a92fe5fc",
   "metadata": {},
   "outputs": [],
   "source": [
    "### importa dati scenario di base e nomi collegi\n",
    "camera_match=pd.read_csv(folder_head+\"pluri_uni_camera.csv\",encoding=\"windows-1252\",sep=\";\")\n",
    "senato_match=pd.read_csv(folder_head+\"pluri_uni_senato.csv\",encoding=\"windows-1252\",sep=\";\")\n",
    "\n",
    "\n",
    "camera=pd.read_csv(folder_head+\"camera_bilanciato.csv\",encoding=\"windows-1252\",sep=\";\")\n",
    "senato=pd.read_csv(folder_head+\"senato_bilanciato.csv\",encoding=\"windows-1252\",sep=\";\")\n",
    "seggi_senato=pd.read_excel(folder_head+\"seggi_senato.xlsx\")\n",
    "seggi_camera=pd.read_excel(folder_head+\"seggi_camera.xlsx\")\n",
    "seggi_camera_plurinominale=pd.read_excel(folder_head+\"seggi_camera_plurinominale.xlsx\")\n",
    "seggi_senato_plurinominale=pd.read_excel(folder_head+\"seggi_senato_plurinominale.xlsx\")\n",
    "\n",
    "\n",
    "### aggiorna alle ultime stime dei sondaggi\n",
    "\n",
    "stime=pd.read_excel(folder_head+\"stime_partiti.xlsx\",sheet_name=\"STIME\")\n",
    "for z in range(0,20):    \n",
    "    for i,party in stime.iterrows():\n",
    "        aumento_voti_partito(camera,partito=party.party,increase=party.stima)\n",
    "## for tuning\n",
    "for z in range(0,20):    \n",
    "    for i,party in stime.iterrows():\n",
    "        aumento_voti_partito(senato,partito=party.party,increase=party.stima)\n",
    "\n",
    "dr=pd.read_excel(folder_head+\"stime_partiti.xlsx\",sheet_name=\"COALIZIONI\")\n",
    "lista_coalizione=dr.columns[1:]\n",
    "diz_coalizione=dict(zip(dr[\"LISTA\"],dr[lista_coalizione[0]]))"
   ]
  },
  {
   "cell_type": "markdown",
   "id": "f893fa5a-b52d-4066-81f8-86497779ce89",
   "metadata": {},
   "source": [
    "#### percentuali scenario di base"
   ]
  },
  {
   "cell_type": "code",
   "execution_count": 37,
   "id": "c0211754-6f83-4949-b720-d53a949fabcf",
   "metadata": {},
   "outputs": [
    {
     "data": {
      "image/png": "[encoded data removed]",
      "text/plain": [
       "<Figure size 432x288 with 1 Axes>"
      ]
     },
     "metadata": {
      "needs_background": "light"
     },
     "output_type": "display_data"
    }
   ],
   "source": [
    "## percentuali scenario di base\n",
    "(camera.groupby(\"LISTA\")[\"VOTI_LISTA\"].sum()/camera[\"VOTI_LISTA\"].sum()).sort_values().plot(kind=\"bar\");"
   ]
  },
  {
   "cell_type": "markdown",
   "id": "0cdc4a14-d40e-4ae4-9a72-61fac049acdd",
   "metadata": {},
   "source": [
    "## Camera dei deputati e Senato"
   ]
  },
  {
   "cell_type": "markdown",
   "id": "437c0f4e-35c7-448a-9d6b-992e151b75ba",
   "metadata": {},
   "source": [
    "carica la lista dei candidati in tutti i collegi"
   ]
  },
  {
   "cell_type": "code",
   "execution_count": 248,
   "id": "7a9fb11e-6f11-4c2e-b66e-d3b24d75afbd",
   "metadata": {},
   "outputs": [],
   "source": [
    "cand_plur=pd.read_excel(folder_head+\"liste_candidati.xlsx\",sheet_name=\"plurinominale_camera\")\n",
    "cand_uni=pd.read_excel(folder_head+\"liste_candidati.xlsx\",sheet_name=\"uninominale_camera\")\n",
    "\n",
    "cand_plur_senato=pd.read_excel(folder_head+\"liste_candidati.xlsx\",sheet_name=\"plurinominale_senato\")\n",
    "cand_uni_senato=pd.read_excel(folder_head+\"liste_candidati.xlsx\",sheet_name=\"uninominale_senato\")"
   ]
  },
  {
   "cell_type": "markdown",
   "id": "cbdbe37e-3149-4323-aa60-79e1d9728898",
   "metadata": {},
   "source": [
    "correzione per candidati Democratici e Progressisti non definiti (da cancellare con liste definitive)"
   ]
  },
  {
   "cell_type": "code",
   "execution_count": 249,
   "id": "1fe0ae73-fa45-419f-aba2-55e63385f260",
   "metadata": {},
   "outputs": [],
   "source": [
    "cand_uni.loc[cand_uni[\"CANDIDATO\"].str.contains(\"Coalizione\"),\"CANDIDATO\"]=cand_uni.loc[cand_uni[\"CANDIDATO\"].str.contains(\"Coalizione\"),\"COLLEGIOUNINOMINALE\"]+\"-COALIZIONE\"\n",
    "cand_uni_senato.loc[cand_uni_senato[\"CANDIDATO\"].str.contains(\"Coalizione\"),\"CANDIDATO\"]=cand_uni_senato.loc[cand_uni_senato[\"CANDIDATO\"].str.contains(\"Coalizione\"),\"COLLEGIOUNINOMINALE\"]+\"-COALIZIONE\""
   ]
  },
  {
   "cell_type": "markdown",
   "id": "0573ec33-bd61-413b-9c12-119486372e47",
   "metadata": {},
   "source": [
    "funzione per vedere chi sono gli eletti alla camera"
   ]
  },
  {
   "cell_type": "code",
   "execution_count": 250,
   "id": "ecc8d2eb-8999-47ef-a596-9225bb60d405",
   "metadata": {},
   "outputs": [],
   "source": [
    "### funzione per vedere chi sono gli eletti \n",
    "def eletti_plurinom_camera(alloc_seggi,partito=\"PD\"):    \n",
    "    ### prendi l'allocazione dei seggi per tutti i partiti\n",
    "    eletti=pd.DataFrame()\n",
    "    ### for row in allocazione_seggi...\n",
    "    for i,row in alloc_seggi.iterrows():\n",
    "        ### filtra gli eletti\n",
    "        # in quel collegio\n",
    "        # di quel partito\n",
    "        # entro le posizioni assegnate\n",
    "        elect_to_append=cand_plur.loc[(cand_plur[\"COLLEGIOPLURINOMINALE\"]==row[\"COLLEGIOPLURINOMINALE\"])&\n",
    "                                      (cand_plur[\"PARTITO\"]==partito)&\n",
    "                                      (cand_plur[\"POSIZIONE\"]<=row[partito])].copy()\n",
    "\n",
    "        eletti=eletti.append(elect_to_append)\n",
    "    return eletti"
   ]
  },
  {
   "cell_type": "markdown",
   "id": "005374d8-b0ce-4c60-8f43-bdfc257870a3",
   "metadata": {},
   "source": [
    "funzione per vedere chi sono gli eletti al senato"
   ]
  },
  {
   "cell_type": "code",
   "execution_count": 251,
   "id": "a32f5b46-b1ee-4b70-b3f4-73f901a523eb",
   "metadata": {},
   "outputs": [],
   "source": [
    "### funzione per vedere chi sono gli eletti \n",
    "def eletti_plurinom_senato(alloc_seggi,partito=\"PD\"):    \n",
    "    ### prendi l'allocazione dei seggi per tutti i partiti\n",
    "    eletti=pd.DataFrame()\n",
    "    ### for row in allocazione_seggi...\n",
    "    for i,row in alloc_seggi.iterrows():\n",
    "        ### filtra gli eletti\n",
    "        # in quel collegio\n",
    "        # di quel partito\n",
    "        # entro le posizioni assegnate\n",
    "        elect_to_append=cand_plur_senato.loc[(cand_plur_senato[\"COLLEGIOPLURINOMINALE\"]==row[\"COLLEGIOPLURINOMINALE\"])&\n",
    "                                      (cand_plur_senato[\"PARTITO\"]==partito)&\n",
    "                                      (cand_plur_senato[\"POSIZIONE\"]<=row[partito])].copy()\n",
    "\n",
    "        eletti=eletti.append(elect_to_append)\n",
    "    return eletti"
   ]
  },
  {
   "cell_type": "markdown",
   "id": "2e7f0a8f-7286-46f5-a2b8-5608b100a3b3",
   "metadata": {},
   "source": [
    "funzione per calcolare i risultati degli scenari alla camera"
   ]
  },
  {
   "cell_type": "code",
   "execution_count": 252,
   "id": "e7bd1c1d-323e-4d63-a4ba-b88136e157a2",
   "metadata": {},
   "outputs": [],
   "source": [
    "def calcola_risultati_scenario_camera(camera,partito=\"PD\"):\n",
    "    #DECRETO DEL PRESIDENTE DELLA REPUBBLICA 30 marzo 1957, n. 361 art.85\n",
    "    ## calcola percentuale nei collegi plurinominali\n",
    "    all_results_camera=pd.merge(camera,camera_match,on=\"COLLEGIOUNINOMINALE\")\n",
    "    ## compute percentage of voti lista over votanti by lista in collegioplurinominale\n",
    "    seggi_plurinom=all_results_camera.groupby([\"COLLEGIOPLURINOMINALE\",\"LISTA\"],as_index=False)[\"VOTI_LISTA\"].sum().pivot(index=\"COLLEGIOPLURINOMINALE\",columns=\"LISTA\",values=\"VOTI_LISTA\")\n",
    "    ### percentuali nei collegi\n",
    "    perc_collegi=seggi_plurinom.div(seggi_plurinom.sum(axis=1),axis=0)\n",
    "\n",
    "    ### calcola numero di seggi allocati per collegio\n",
    "    allocazione_seggi=allocazione_plurinom_camera(camera=camera,diz=diz_coalizione,seggi_camera=seggi_camera)\n",
    "    ### questo serve per levare collegio plurinominale dall'indice\n",
    "    allocazione_seggi.reset_index(inplace=True)\n",
    "    ### quanti sono in tutto\n",
    "    if partito in allocazione_seggi.columns:\n",
    "        num_da_eleggere=allocazione_seggi[partito].sum().copy()\n",
    "        #### chi sono\n",
    "        eletti=eletti_plurinom_camera(alloc_seggi=allocazione_seggi,partito=partito)\n",
    "        ## trova candidati eletti in piu collegi \n",
    "        candidati_multipli=eletti[\"CANDIDATO\"].value_counts()[eletti[\"CANDIDATO\"].value_counts()>1].index\n",
    "        ## dataframe con candidati multipli\n",
    "        da_verificare=eletti.loc[eletti[\"CANDIDATO\"].isin(candidati_multipli)]\n",
    "        ## unisci ai risultati percentuali di collegio\n",
    "        da_verificare=pd.merge(da_verificare,perc_collegi[partito].reset_index())\n",
    "\n",
    "        '''\n",
    "        ((1. Il deputato eletto in piu' collegi plurinominali e' proclamato\n",
    "        nel collegio nel quale la lista cui appartiene ha ottenuto la  minore\n",
    "        cifra elettorale percentuale di collegio  plurinominale,  determinata\n",
    "        ai sensi dell'articolo 77, comma 1, lettera e) )). \n",
    "        '''\n",
    "        ## verifica dove è la percentuale minima per ogni candidato (dove verrà eletto)\n",
    "        da_verificare[\"minimo\"]=da_verificare.groupby([\"CANDIDATO\"])[partito].transform(\"min\")\n",
    "        ## prendi i collegi dove si è liberata una posizione\n",
    "        da_verificare[\"replace\"]=da_verificare[partito]!=da_verificare[\"minimo\"]\n",
    "\n",
    "        '''\n",
    "         ((1-bis. Il deputato eletto in un collegio uninominale e in  uno  o\n",
    "        piu'  collegi  plurinominali   si   intende   eletto   nel   collegio\n",
    "        uninominale)). \n",
    "        '''\n",
    "        ### qui ci va una funzione per trovare i nomi degli eletti nell'uninominale\n",
    "\n",
    "        result_uninom=tabella_uninom(camera,diz=diz_coalizione).reset_index(drop=False)\n",
    "        collegi_vinti=result_uninom.loc[result_uninom[\"VINCITORE\"].str.contains(partito),\"COLLEGIOUNINOMINALE\"]\n",
    "        eletti_uninominale=cand_uni.loc[(cand_uni[\"PARTITO\"]==partito)&(cand_uni[\"COLLEGIOUNINOMINALE\"].isin(collegi_vinti)),\"CANDIDATO\"].unique()\n",
    "        ### li aggiungo a quelli che vanno rimpiazzati\n",
    "        da_verificare.loc[da_verificare[\"CANDIDATO\"].isin(eletti_uninominale),\"replace\"]=True\n",
    "\n",
    "        ## prendi dataset con collegi e posizioni da incrementare ovvero dove replace =TRUE\n",
    "        incrementi=da_verificare.loc[da_verificare[\"replace\"],\"COLLEGIOPLURINOMINALE\"].value_counts()\n",
    "        ## incrementa le posizioni\n",
    "        for collegio,incremento in incrementi.iteritems():\n",
    "             allocazione_seggi.loc[allocazione_seggi[\"COLLEGIOPLURINOMINALE\"]==collegio,partito]+=incremento\n",
    "\n",
    "        ## adesso rifai gli eletti\n",
    "        eletti=eletti_plurinom_camera(alloc_seggi=allocazione_seggi,partito=partito)\n",
    "        num_cand_unici=eletti[\"CANDIDATO\"].nunique()\n",
    "        eletti_finali_plurinominali=set(eletti[\"CANDIDATO\"].unique())\n",
    "        eletti_finali=list(set(eletti_finali_plurinominali).union(set(eletti_uninominale)))\n",
    "    else:\n",
    "        eletti_finali=[]\n",
    "    return eletti_finali"
   ]
  },
  {
   "cell_type": "markdown",
   "id": "69300ccd-82bf-49a6-a508-1765d266a75e",
   "metadata": {},
   "source": [
    "funzione per vedere i risultati dello scenario al senato"
   ]
  },
  {
   "cell_type": "code",
   "execution_count": 253,
   "id": "158ad1d6-7837-481e-9e63-889ab6a1ef4b",
   "metadata": {},
   "outputs": [],
   "source": [
    "def calcola_risultati_scenario_senato(senato,partito=\"PD\"):\n",
    "\n",
    "    ## calcola percentuale nei collegi plurinominali\n",
    "    all_results_camera=pd.merge(senato,senato_match,on=\"COLLEGIOUNINOMINALE\")\n",
    "    ## compute percentage of voti lista over votanti by lista in collegioplurinominale\n",
    "    seggi_plurinom=all_results_camera.groupby([\"COLLEGIOPLURINOMINALE\",\"LISTA\"],as_index=False)[\"VOTI_LISTA\"].sum().pivot(index=\"COLLEGIOPLURINOMINALE\",columns=\"LISTA\",values=\"VOTI_LISTA\")\n",
    "    ### percentuali nei collegi\n",
    "    perc_collegi=seggi_plurinom.div(seggi_plurinom.sum(axis=1),axis=0)\n",
    "\n",
    "    ### calcola numero di seggi allocati per collegio\n",
    "    allocazione_seggi=allocazione_plurinom_senato(senato,diz=diz_coalizione,seggi_senato=seggi_senato)\n",
    "    ### questo serve per levare collegio plurinominale dall'indice\n",
    "    allocazione_seggi.reset_index(inplace=True)\n",
    "    ### quanti sono in tutto\n",
    "    if partito in allocazione_seggi.columns:\n",
    "        num_da_eleggere=allocazione_seggi[partito].sum().copy()\n",
    "        #### chi sono\n",
    "        eletti=eletti_plurinom_senato(alloc_seggi=allocazione_seggi,partito=partito)\n",
    "\n",
    "\n",
    "        ## trova candidati eletti in piu collegi \n",
    "        candidati_multipli=eletti[\"CANDIDATO\"].value_counts()[eletti[\"CANDIDATO\"].value_counts()>1].index\n",
    "        ## dataframe con candidati multipli\n",
    "        da_verificare=eletti.loc[eletti[\"CANDIDATO\"].isin(candidati_multipli)]\n",
    "        ## unisci ai risultati percentuali di collegio\n",
    "        da_verificare=pd.merge(da_verificare,perc_collegi[partito].reset_index())\n",
    "\n",
    "        '''\n",
    "        ((1. Il deputato eletto in piu' collegi plurinominali e' proclamato\n",
    "        nel collegio nel quale la lista cui appartiene ha ottenuto la  minore\n",
    "        cifra elettorale percentuale di collegio  plurinominale,  determinata\n",
    "        ai sensi dell'articolo 77, comma 1, lettera e) )). \n",
    "        '''\n",
    "        ## verifica dove è la percentuale minima per ogni candidato (dove verrà eletto)\n",
    "        da_verificare[\"minimo\"]=da_verificare.groupby([\"CANDIDATO\"])[partito].transform(\"min\")\n",
    "        ## prendi i collegi dove si è liberata una posizione\n",
    "        da_verificare[\"replace\"]=da_verificare[partito]!=da_verificare[\"minimo\"]\n",
    "\n",
    "        '''\n",
    "         ((1-bis. Il deputato eletto in un collegio uninominale e in  uno  o\n",
    "        piu'  collegi  plurinominali   si   intende   eletto   nel   collegio\n",
    "        uninominale)). \n",
    "        '''\n",
    "        ### qui ci va una funzione per trovare i nomi degli eletti nell'uninominale\n",
    "\n",
    "        result_uninom=tabella_uninom(camera,diz=diz_coalizione).reset_index(drop=False)\n",
    "        collegi_vinti=result_uninom.loc[result_uninom[\"VINCITORE\"].str.contains(partito),\"COLLEGIOUNINOMINALE\"]\n",
    "        eletti_uninominale=cand_uni_senato.loc[(cand_uni_senato[\"PARTITO\"]==partito)&(cand_uni_senato[\"COLLEGIOUNINOMINALE\"].isin(collegi_vinti)),\"CANDIDATO\"].unique()\n",
    "        ### li aggiungo a quelli che vanno rimpiazzati\n",
    "        da_verificare.loc[da_verificare[\"CANDIDATO\"].isin(eletti_uninominale),\"replace\"]=True\n",
    "\n",
    "        ## prendi dataset con collegi e posizioni da incrementare ovvero dove replace =TRUE\n",
    "        incrementi=da_verificare.loc[da_verificare[\"replace\"],\"COLLEGIOPLURINOMINALE\"].value_counts()\n",
    "        ## incrementa le posizioni\n",
    "        for collegio,incremento in incrementi.iteritems():\n",
    "             allocazione_seggi.loc[allocazione_seggi[\"COLLEGIOPLURINOMINALE\"]==collegio,partito]+=incremento\n",
    "\n",
    "        ## adesso rifai gli eletti\n",
    "        eletti=eletti_plurinom_senato(alloc_seggi=allocazione_seggi,partito=partito)\n",
    "        num_cand_unici=eletti[\"CANDIDATO\"].nunique()\n",
    "        eletti_finali_plurinominali=set(eletti[\"CANDIDATO\"].unique())\n",
    "        eletti_finali=list(set(eletti_finali_plurinominali).union(set(eletti_uninominale)))\n",
    "    else:\n",
    "        eletti_finali=[]\n",
    "    return eletti_finali"
   ]
  },
  {
   "cell_type": "markdown",
   "id": "6c785610-d366-4fcb-8026-a7577fb53f6e",
   "metadata": {},
   "source": [
    "## definizione scenari"
   ]
  },
  {
   "cell_type": "code",
   "execution_count": 254,
   "id": "20fc1ab3-6da7-4210-8762-252fb8d5981f",
   "metadata": {},
   "outputs": [],
   "source": [
    "## aumenti rispetto allo scenario di base\n",
    "aumenti=[0.25,0.5,0.75,0.85,1,1.15,1.25,1.5,1.75]\n",
    "### probabilità di accadimento in ogni scenario\n",
    "probabilita=[0.02,0.03,0.1,0.2,0.3,0.2,0.1,0.03,0.02]"
   ]
  },
  {
   "cell_type": "code",
   "execution_count": 255,
   "id": "3bbcd7be-857b-4928-a969-90267a8278e5",
   "metadata": {},
   "outputs": [
    {
     "data": {
      "image/png": "[encoded data removed]",
      "text/plain": [
       "<Figure size 504x360 with 1 Axes>"
      ]
     },
     "metadata": {
      "needs_background": "light"
     },
     "output_type": "display_data"
    }
   ],
   "source": [
    "## distribuzione della probabilità degli scenari\n",
    "fig,axs=plt.subplots(figsize=(7,5))\n",
    "pd.DataFrame({\"% rispetto a sondaggio\":aumenti,\"Probabilità accadimento\":probabilita}).plot(\n",
    "    kind=\"line\",y=\"Probabilità accadimento\",x=\"% rispetto a sondaggio\",ax=axs)\n",
    "axs.set_ylabel(\"probabilità scenario\");"
   ]
  },
  {
   "cell_type": "markdown",
   "id": "5ab40ecf-52ca-4a92-b030-7716024673b3",
   "metadata": {},
   "source": [
    "ad esempio per il PD (figura in basso linea rossa), ipotizziamo diversi scenari che vanno dal 5% al 40% su base nazionale.\n",
    "Mentre per la lega (figura in basso linea blu), ipotizziamo diversi scenari che vanno 3% al 22%....Notare che gli scenari estremi (es:Lega che prende il 3% o PD che prende il 5%) hanno delle probabilità di acccadimento molto basse (2%),"
   ]
  },
  {
   "cell_type": "code",
   "execution_count": 256,
   "id": "68271290-3164-494d-a4fe-6c1766a26e0d",
   "metadata": {},
   "outputs": [
    {
     "data": {
      "image/png": "[encoded data removed]",
      "text/plain": [
       "<Figure size 1080x720 with 4 Axes>"
      ]
     },
     "metadata": {
      "needs_background": "light"
     },
     "output_type": "display_data"
    }
   ],
   "source": [
    "d_plot=pd.DataFrame({\"% rispetto a sondaggio\":aumenti,\"Probabilità accadimento\":probabilita})\n",
    "for party in [\"PD\",\"LEGA\",\"AZIONE-IV\",\"M5S\"]:    \n",
    "    d_plot[\"% {0}\".format(party)]=d_plot[\"% rispetto a sondaggio\"]*cp(party,mean=1)*100\n",
    "\n",
    "fig,axss=plt.subplots(ncols=2,nrows=2,figsize=(15,10))\n",
    "axs=axss.flatten()\n",
    "\n",
    "for i,party,colorz in  zip(range(0,len(axs)),[\"PD\",\"LEGA\",\"AZIONE-IV\",\"M5S\"],[\"red\",\"blue\",\"aquamarine\",\"gold\"]):    \n",
    "    d_plot.plot(\n",
    "        kind=\"line\",y=\"Probabilità accadimento\",x=\"% {0}\".format(party),ax=axs[i],color=colorz,legend=False)\n",
    "    axs[i].set_ylabel(\"probabilità scenario\");\n"
   ]
  },
  {
   "cell_type": "markdown",
   "id": "318b22e8-252b-4894-a012-d183bb11a0f0",
   "metadata": {},
   "source": [
    "## Ora facciamo le simulazioni...."
   ]
  },
  {
   "cell_type": "markdown",
   "id": "e57f3fb4-9dc8-4070-a7af-e34f29f9248e",
   "metadata": {},
   "source": [
    "questa cella ci può mettere anche 10 minuti a partito..."
   ]
  },
  {
   "cell_type": "code",
   "execution_count": 259,
   "id": "695e91af-bd2f-499b-8b5d-4b7203e4cf00",
   "metadata": {},
   "outputs": [
    {
     "name": "stdout",
     "output_type": "stream",
     "text": [
      "Wall time: 14min 16s\n"
     ]
    }
   ],
   "source": [
    "%%time\n",
    "\n",
    "eletti_camera_all=pd.DataFrame()\n",
    "eletti_senato_all=pd.DataFrame()\n",
    "\n",
    "### per il partito\n",
    "for partito in [\"AZIONE-IV\",\"PD\",\"M5S\"]:\n",
    "    ## per ogni aumento di ogni scenario\n",
    "    for aumento in aumenti:\n",
    "        ### calcola la media del partito\n",
    "        media_partito=cp(partito,mean=1)\n",
    "\n",
    "        #### aumentare la media del partito dello scenario di base per l'aumento\n",
    "        aumento_voti_partito(camera,increase=media_partito*aumento,partito=partito)\n",
    "        aumento_voti_partito(senato,increase=media_partito*aumento,partito=partito)\n",
    "        ### calcola i risultati dello scenari\n",
    "        eletti_camera=calcola_risultati_scenario_camera(camera=camera,partito=partito)\n",
    "        eletti_senato=calcola_risultati_scenario_senato(senato,partito=partito)\n",
    "\n",
    "        ### salvali in un dataframe\n",
    "        eletti_camera_all=eletti_camera_all.append(pd.DataFrame({\"candidato\":eletti_camera,\"scenario\":aumento,\"partito\":partito}))\n",
    "        eletti_senato_all=eletti_senato_all.append(pd.DataFrame({\"candidato\":eletti_senato,\"scenario\":aumento,\"partito\":partito}))\n",
    "        ### ricalibra i dataset riportandoli allo scenario di base\n",
    "        for z in range(0,20):    \n",
    "            for i,party in stime.iterrows():\n",
    "                aumento_voti_partito(camera,partito=party.party,increase=party.stima)\n",
    "        ## for tuning\n",
    "        for z in range(0,20):    \n",
    "            for i,party in stime.iterrows():\n",
    "                aumento_voti_partito(senato,partito=party.party,increase=party.stima)"
   ]
  },
  {
   "cell_type": "markdown",
   "id": "741a8fad-9060-4367-8624-6b57befe28c6",
   "metadata": {},
   "source": [
    "lega le probabilità di ogni scenario agli aumenti..."
   ]
  },
  {
   "cell_type": "code",
   "execution_count": 260,
   "id": "786d5128-d960-49c3-806b-6130783badfc",
   "metadata": {},
   "outputs": [],
   "source": [
    "eletti_camera_all[\"probabilità di elezione\"]=eletti_camera_all[\"scenario\"].replace(dict(zip(aumenti,probabilita)))\n",
    "eletti_senato_all[\"probabilità di elezione\"]=eletti_senato_all[\"scenario\"].replace(dict(zip(aumenti,probabilita)))"
   ]
  },
  {
   "cell_type": "markdown",
   "id": "88e047a6-8392-4cfc-a5cb-7b1e758b6395",
   "metadata": {},
   "source": [
    "ora calcolà la probabilità totale sommandola su tutti gli scenari.\n"
   ]
  },
  {
   "cell_type": "code",
   "execution_count": 261,
   "id": "6ad1f205-be58-405d-8c63-3d4b6e519821",
   "metadata": {},
   "outputs": [],
   "source": [
    "risultati_finali=eletti_camera_all.groupby([\"candidato\",\"partito\"],as_index=False)[\"probabilità di elezione\"].sum()\n",
    "\n",
    "risultati_finali_senato=eletti_senato_all.groupby([\"candidato\",\"partito\"],as_index=False)[\"probabilità di elezione\"].sum()\n"
   ]
  },
  {
   "cell_type": "markdown",
   "id": "3b7dbae2-eb16-4ef8-84dc-84e388285c0e",
   "metadata": {},
   "source": [
    "## come si distribuisce la probabilità ?"
   ]
  },
  {
   "cell_type": "code",
   "execution_count": 263,
   "id": "4be69902-e892-48b3-bc4c-597e5d578e10",
   "metadata": {},
   "outputs": [
    {
     "data": {
      "image/png": "[encoded data removed]",
      "text/plain": [
       "<Figure size 447.5x360 with 1 Axes>"
      ]
     },
     "metadata": {
      "needs_background": "light"
     },
     "output_type": "display_data"
    }
   ],
   "source": [
    "sns.displot(risultati_finali,x=\"probabilità di elezione\",hue=\"partito\",kind=\"kde\");"
   ]
  },
  {
   "cell_type": "code",
   "execution_count": 264,
   "id": "23f0aecd-b54f-4611-81fe-d51de9b50a1b",
   "metadata": {},
   "outputs": [
    {
     "data": {
      "text/html": [
       "<div>\n",
       "<style scoped>\n",
       "    .dataframe tbody tr th:only-of-type {\n",
       "        vertical-align: middle;\n",
       "    }\n",
       "\n",
       "    .dataframe tbody tr th {\n",
       "        vertical-align: top;\n",
       "    }\n",
       "\n",
       "    .dataframe thead th {\n",
       "        text-align: right;\n",
       "    }\n",
       "</style>\n",
       "<table border=\"1\" class=\"dataframe\">\n",
       "  <thead>\n",
       "    <tr style=\"text-align: right;\">\n",
       "      <th></th>\n",
       "      <th>candidato</th>\n",
       "      <th>partito</th>\n",
       "      <th>probabilità di elezione</th>\n",
       "    </tr>\n",
       "  </thead>\n",
       "  <tbody>\n",
       "    <tr>\n",
       "      <th>153</th>\n",
       "      <td>Luciano D'Alfonso</td>\n",
       "      <td>PD</td>\n",
       "      <td>1.0</td>\n",
       "    </tr>\n",
       "    <tr>\n",
       "      <th>14</th>\n",
       "      <td>Andrea Gnassi</td>\n",
       "      <td>PD</td>\n",
       "      <td>1.0</td>\n",
       "    </tr>\n",
       "    <tr>\n",
       "      <th>112</th>\n",
       "      <td>Gian Antonio Girelli</td>\n",
       "      <td>PD</td>\n",
       "      <td>1.0</td>\n",
       "    </tr>\n",
       "    <tr>\n",
       "      <th>80</th>\n",
       "      <td>Elly Schlein</td>\n",
       "      <td>PD</td>\n",
       "      <td>1.0</td>\n",
       "    </tr>\n",
       "    <tr>\n",
       "      <th>22</th>\n",
       "      <td>Anthony Barbagallo</td>\n",
       "      <td>PD</td>\n",
       "      <td>1.0</td>\n",
       "    </tr>\n",
       "    <tr>\n",
       "      <th>210</th>\n",
       "      <td>Piero De Luca</td>\n",
       "      <td>PD</td>\n",
       "      <td>1.0</td>\n",
       "    </tr>\n",
       "    <tr>\n",
       "      <th>20</th>\n",
       "      <td>Anna Ascani</td>\n",
       "      <td>PD</td>\n",
       "      <td>1.0</td>\n",
       "    </tr>\n",
       "    <tr>\n",
       "      <th>73</th>\n",
       "      <td>Debora Serracchiani</td>\n",
       "      <td>PD</td>\n",
       "      <td>1.0</td>\n",
       "    </tr>\n",
       "    <tr>\n",
       "      <th>178</th>\n",
       "      <td>Matteo Orfini</td>\n",
       "      <td>PD</td>\n",
       "      <td>1.0</td>\n",
       "    </tr>\n",
       "    <tr>\n",
       "      <th>149</th>\n",
       "      <td>Lorenzo Guerini</td>\n",
       "      <td>PD</td>\n",
       "      <td>1.0</td>\n",
       "    </tr>\n",
       "  </tbody>\n",
       "</table>\n",
       "</div>"
      ],
      "text/plain": [
       "                candidato partito  probabilità di elezione\n",
       "153     Luciano D'Alfonso      PD                      1.0\n",
       "14          Andrea Gnassi      PD                      1.0\n",
       "112  Gian Antonio Girelli      PD                      1.0\n",
       "80           Elly Schlein      PD                      1.0\n",
       "22     Anthony Barbagallo      PD                      1.0\n",
       "210         Piero De Luca      PD                      1.0\n",
       "20            Anna Ascani      PD                      1.0\n",
       "73    Debora Serracchiani      PD                      1.0\n",
       "178         Matteo Orfini      PD                      1.0\n",
       "149       Lorenzo Guerini      PD                      1.0"
      ]
     },
     "execution_count": 264,
     "metadata": {},
     "output_type": "execute_result"
    }
   ],
   "source": [
    "### mostra i primi e gli ultimi\n",
    "risultati_finali.sort_values(\"probabilità di elezione\",ascending=False).head(10)"
   ]
  },
  {
   "cell_type": "code",
   "execution_count": 265,
   "id": "6f407fb5-67fb-476c-b1fc-429a5e0d90c5",
   "metadata": {},
   "outputs": [
    {
     "data": {
      "text/html": [
       "<div>\n",
       "<style scoped>\n",
       "    .dataframe tbody tr th:only-of-type {\n",
       "        vertical-align: middle;\n",
       "    }\n",
       "\n",
       "    .dataframe tbody tr th {\n",
       "        vertical-align: top;\n",
       "    }\n",
       "\n",
       "    .dataframe thead th {\n",
       "        text-align: right;\n",
       "    }\n",
       "</style>\n",
       "<table border=\"1\" class=\"dataframe\">\n",
       "  <thead>\n",
       "    <tr style=\"text-align: right;\">\n",
       "      <th></th>\n",
       "      <th>candidato</th>\n",
       "      <th>partito</th>\n",
       "      <th>probabilità di elezione</th>\n",
       "    </tr>\n",
       "  </thead>\n",
       "  <tbody>\n",
       "    <tr>\n",
       "      <th>21</th>\n",
       "      <td>Beatrice Lorenzin</td>\n",
       "      <td>PD</td>\n",
       "      <td>1.00</td>\n",
       "    </tr>\n",
       "    <tr>\n",
       "      <th>95</th>\n",
       "      <td>Sandra Zampa</td>\n",
       "      <td>PD</td>\n",
       "      <td>1.00</td>\n",
       "    </tr>\n",
       "    <tr>\n",
       "      <th>41</th>\n",
       "      <td>Dario Parrini</td>\n",
       "      <td>PD</td>\n",
       "      <td>1.00</td>\n",
       "    </tr>\n",
       "    <tr>\n",
       "      <th>40</th>\n",
       "      <td>Dario Franceschini</td>\n",
       "      <td>PD</td>\n",
       "      <td>1.00</td>\n",
       "    </tr>\n",
       "    <tr>\n",
       "      <th>51</th>\n",
       "      <td>Francesco Boccia</td>\n",
       "      <td>PD</td>\n",
       "      <td>1.00</td>\n",
       "    </tr>\n",
       "    <tr>\n",
       "      <th>32</th>\n",
       "      <td>Cecilia D'Elia</td>\n",
       "      <td>PD</td>\n",
       "      <td>1.00</td>\n",
       "    </tr>\n",
       "    <tr>\n",
       "      <th>26</th>\n",
       "      <td>Carlo Cottarelli</td>\n",
       "      <td>PD</td>\n",
       "      <td>1.00</td>\n",
       "    </tr>\n",
       "    <tr>\n",
       "      <th>46</th>\n",
       "      <td>Enrico Borghi</td>\n",
       "      <td>PD</td>\n",
       "      <td>1.00</td>\n",
       "    </tr>\n",
       "    <tr>\n",
       "      <th>102</th>\n",
       "      <td>Tatiana Rojc</td>\n",
       "      <td>PD</td>\n",
       "      <td>1.00</td>\n",
       "    </tr>\n",
       "    <tr>\n",
       "      <th>28</th>\n",
       "      <td>Castellone Mariolina</td>\n",
       "      <td>M5S</td>\n",
       "      <td>0.98</td>\n",
       "    </tr>\n",
       "  </tbody>\n",
       "</table>\n",
       "</div>"
      ],
      "text/plain": [
       "                candidato partito  probabilità di elezione\n",
       "21      Beatrice Lorenzin      PD                     1.00\n",
       "95           Sandra Zampa      PD                     1.00\n",
       "41          Dario Parrini      PD                     1.00\n",
       "40     Dario Franceschini      PD                     1.00\n",
       "51       Francesco Boccia      PD                     1.00\n",
       "32         Cecilia D'Elia      PD                     1.00\n",
       "26       Carlo Cottarelli      PD                     1.00\n",
       "46          Enrico Borghi      PD                     1.00\n",
       "102          Tatiana Rojc      PD                     1.00\n",
       "28   Castellone Mariolina     M5S                     0.98"
      ]
     },
     "execution_count": 265,
     "metadata": {},
     "output_type": "execute_result"
    }
   ],
   "source": [
    "risultati_finali_senato.sort_values(\"probabilità di elezione\",ascending=False).head(10)"
   ]
  },
  {
   "cell_type": "markdown",
   "id": "b9521420-0949-46cc-8d9a-9466f3983bae",
   "metadata": {},
   "source": [
    "in media qual'è la probabilità di essere eletti per una data posizione in lista?"
   ]
  },
  {
   "cell_type": "code",
   "execution_count": 266,
   "id": "4ee5568d-51fa-4afb-816d-e4a742fdc0c5",
   "metadata": {},
   "outputs": [],
   "source": [
    "check=pd.merge(risultati_finali,\n",
    "        cand_plur.groupby(\"CANDIDATO\",as_index=False)[\"POSIZIONE\"].min(),right_on=\"CANDIDATO\",left_on=\"candidato\")"
   ]
  },
  {
   "cell_type": "code",
   "execution_count": 267,
   "id": "8cacb289-9c88-4fc9-a968-5d19b2436a23",
   "metadata": {},
   "outputs": [
    {
     "data": {
      "text/plain": [
       "<AxesSubplot:xlabel='POSIZIONE'>"
      ]
     },
     "execution_count": 267,
     "metadata": {},
     "output_type": "execute_result"
    },
    {
     "data": {
      "image/png": "[encoded data removed]",
      "text/plain": [
       "<Figure size 432x288 with 1 Axes>"
      ]
     },
     "metadata": {
      "needs_background": "light"
     },
     "output_type": "display_data"
    }
   ],
   "source": [
    "check.groupby(\"POSIZIONE\")[\"probabilità di elezione\"].mean().plot(kind=\"bar\")"
   ]
  },
  {
   "cell_type": "markdown",
   "id": "bd5a2dde-71b5-4e74-af38-222ab2b8d25d",
   "metadata": {},
   "source": [
    "## animazione"
   ]
  },
  {
   "cell_type": "code",
   "execution_count": 268,
   "id": "42e926c0-6f19-4ee9-bb0f-2b52e443de6a",
   "metadata": {},
   "outputs": [],
   "source": [
    "diz_colori={\"PD\":\"red\",\"AZIONE-IV\":\"blue\",\"M5S\":\"gold\"}"
   ]
  },
  {
   "cell_type": "code",
   "execution_count": 277,
   "id": "ddc15f08-2ac0-46d0-a8f2-4ae6b6fe1357",
   "metadata": {},
   "outputs": [],
   "source": [
    "risultati_finali[\"camera\"]=\"Camera\"\n",
    "risultati_finali_senato[\"camera\"]=\"Senato\""
   ]
  },
  {
   "cell_type": "code",
   "execution_count": 278,
   "id": "7381608c-6a41-41f7-b560-87ef081b5a22",
   "metadata": {},
   "outputs": [],
   "source": [
    "risultati_all=risultati_finali.append(risultati_finali_senato)"
   ]
  },
  {
   "cell_type": "code",
   "execution_count": 289,
   "id": "6bb7666e-5c47-4945-b48b-d8c08724eeeb",
   "metadata": {},
   "outputs": [
    {
     "name": "stderr",
     "output_type": "stream",
     "text": [
      "MovieWriter imagemagick unavailable; using Pillow instead.\n"
     ]
    },
    {
     "data": {
      "image/png": "[encoded data removed]",
      "text/plain": [
       "<Figure size 432x288 with 1 Axes>"
      ]
     },
     "metadata": {
      "needs_background": "light"
     },
     "output_type": "display_data"
    }
   ],
   "source": [
    "import numpy as np\n",
    "from matplotlib import pyplot as plt\n",
    "from matplotlib.animation import FuncAnimation\n",
    "plt.style.use('seaborn-pastel')\n",
    "\n",
    "\n",
    "fig = plt.figure()\n",
    "ax = plt.axes(xlim=(-1,0), ylim=(-0.5,1))\n",
    "ax.set_axis_off()\n",
    "ax.set_title(\"Probabilità di Elezione\",font=\"Arial\",fontsize=14)\n",
    "margine_sinistro=-0.95\n",
    "#ax.text(x=margine_sinistro,y=0.5,s=\"probabilità di essere eletto\",fontsize=5)\n",
    "\n",
    "probabilita = ax.text(x=margine_sinistro,y=0.6, s=\"30%\", fontsize=28,font=\"Arial\")\n",
    "candidato = ax.text(x=margine_sinistro,y=0.8, s=\"ELEZIONI 25 SETTEMBRE \\n #totoparlamentarie\", fontsize=28,font=\"Arial\")\n",
    "partito = ax.text(x=margine_sinistro,y=0.4, s=\"\", fontsize=28,font=\"Arial\")\n",
    "camera_testo = ax.text(x=margine_sinistro,y=0.2, s=\"\", fontsize=28,font=\"Arial\")\n",
    "\n",
    "### filtra quelliu della coalizione\n",
    "risultati_all=risultati_all.loc[~risultati_all[\"candidato\"].str.contains(\"COALIZIONE\")].copy()\n",
    "risultati_all.sort_values(\"probabilità di elezione\",inplace=True,ascending=False)\n",
    "risultati_all.reset_index(drop=True,inplace=True)\n",
    "\n",
    "\n",
    "\n",
    "candidati = risultati_all[\"candidato\"]\n",
    "probabilities= risultati_all[\"probabilità di elezione\"].apply(lambda x:str(int(x*100))+\" %\")\n",
    "partiti=risultati_all[\"partito\"]\n",
    "colori=risultati_all[\"partito\"].replace(diz_colori)\n",
    "camere=risultati_all[\"camera\"]\n",
    "camere_colori=risultati_all[\"camera\"].replace({\"Camera\":\"grey\",\"Senato\":\"black\"})\n",
    "def animate(i):\n",
    "    cand=candidati[i]\n",
    "    prob=probabilities[i]\n",
    "    part=partiti[i]\n",
    "    col=colori[i]\n",
    "    cam=camere[i]\n",
    "    col_camere=camere_colori[i]\n",
    "    candidato.set_text(cand)\n",
    "    probabilita.set_text(prob)\n",
    "    partito.set_text(part)\n",
    "    partito.set_color(col)\n",
    "    camera_testo.set_text(cam)\n",
    "    camera_testo.set_color(col_camere)\n",
    "    \n",
    "    return candidato,probabilita,partito,camera_testo\n",
    "\n",
    "anim = FuncAnimation(fig, animate,frames=len(candidati), interval=250, blit=True)\n",
    "\n",
    "\n",
    "anim.save('animazione_parlamentari.gif', writer='imagemagick')"
   ]
  },
  {
   "cell_type": "markdown",
   "id": "667c9907-3155-49dd-b229-2a0c66cb1732",
   "metadata": {},
   "source": [
    "##  import candidati 5 stelle"
   ]
  },
  {
   "cell_type": "code",
   "execution_count": 211,
   "id": "86e0933b-d4e8-4432-8479-ad79159c3912",
   "metadata": {},
   "outputs": [],
   "source": [
    "# import re"
   ]
  },
  {
   "cell_type": "code",
   "execution_count": 212,
   "id": "8765e382-8cfe-47c5-bee3-96d2530f1263",
   "metadata": {},
   "outputs": [],
   "source": [
    "# candidati=pd.read_excel(\"D:\\\\Download_new\\\\LISTE-DI-CANDIDATI-CAMERA(1)(1).xlsx\",sheet_name=\"Table 1\")\n",
    "# candidati2=pd.read_excel(\"D:\\\\Download_new\\\\LISTE-DI-CANDIDATI-CAMERA(1)(1).xlsx\",sheet_name=\"Table 2\")"
   ]
  },
  {
   "cell_type": "markdown",
   "id": "114d894c-42d9-42fa-8dc9-6f4ccdb6bcc3",
   "metadata": {},
   "source": [
    "camera"
   ]
  },
  {
   "cell_type": "code",
   "execution_count": 213,
   "id": "d07cdfac-1b96-4a4b-911d-8d8154f297d1",
   "metadata": {},
   "outputs": [],
   "source": [
    "# df=pd.DataFrame()\n",
    "# for g,collegio in zip(candidati.iloc[1:,2],candidati.iloc[1:,1]):\n",
    "#     candidati_collegio=re.sub(r'\\d',\"\", g.replace(\"\\n\",\"\")).split(\")  \")[1:]\n",
    "#     candidati_collegio=[x for x in candidati_collegio if \"  \" not in x]\n",
    "#     df=df.append(pd.DataFrame({\"COLLEGIOPLURINOMINALE\":collegio,\"CANDIDATO\":candidati_collegio,\"POSIZIONE\":range(1,len(candidati_collegio)+1)}))\n",
    "\n",
    "# for g,collegio in zip(candidati2.iloc[1:,2],candidati2.iloc[1:,1]):\n",
    "#     candidati_collegio=re.sub(r'\\d',\"\", g.replace(\"\\n\",\"\")).split(\")  \")[1:]\n",
    "#     candidati_collegio=[x for x in candidati_collegio if \"  \" not in x]\n",
    "#     df=df.append(pd.DataFrame({\"COLLEGIOPLURINOMINALE\":collegio,\"CANDIDATO\":candidati_collegio,\"POSIZIONE\":range(1,len(candidati_collegio)+1)}))\n",
    "\n",
    "# df[\"COLLEGIOPLURINOMINALE\"]=df[\"COLLEGIOPLURINOMINALE\"].apply(lambda x:x.split(\" -\")[0]+\" - P\"+x.split(\"- \")[1])"
   ]
  },
  {
   "cell_type": "code",
   "execution_count": 215,
   "id": "2656bd31-af79-4df1-b206-eef762d3801a",
   "metadata": {},
   "outputs": [],
   "source": [
    "# df.to_excel(\"D:\\\\Download_new\\\\candidati_camera.xlsx\")"
   ]
  },
  {
   "cell_type": "markdown",
   "id": "a40dcf24-b762-4bb2-9adb-c5bcbe8938d7",
   "metadata": {},
   "source": [
    "senato"
   ]
  },
  {
   "cell_type": "code",
   "execution_count": 216,
   "id": "e6db017f-5ca9-437c-87e9-ba0468b6439f",
   "metadata": {},
   "outputs": [],
   "source": [
    "# candidati=pd.read_excel(\"D:\\\\Download_new\\\\LISTE-DI-CANDIDATI-SENATO(1).xlsx\",sheet_name=\"Table 1\")\n",
    "# dr=pd.DataFrame()\n",
    "# for g,collegio in zip(candidati.iloc[1:,2],candidati.iloc[1:,1]):\n",
    "#     candidati_collegio=re.sub(r'\\d',\"\", g.replace(\"\\n\",\"\")).split(\")  \")[1:]\n",
    "#     candidati_collegio=[x.replace(\"   \",\"\") for x in candidati_collegio]\n",
    "#     dr=dr.append(pd.DataFrame({\"COLLEGIOPLURINOMINALE\":collegio,\"CANDIDATO\":candidati_collegio,\"POSIZIONE\":range(1,len(candidati_collegio)+1)}))\n",
    "# dr[\"COLLEGIOPLURINOMINALE\"]=dr[\"COLLEGIOPLURINOMINALE\"].apply(lambda x:x.split(\" -\")[0]+\" - P\"+x.split(\"- \")[1])"
   ]
  },
  {
   "cell_type": "code",
   "execution_count": 217,
   "id": "0aa8b75e-b5c2-44f5-a0b8-cb1253158d44",
   "metadata": {},
   "outputs": [],
   "source": [
    "# dr.to_excel(\"D:\\\\Download_new\\\\candidati_senato.xlsx\")"
   ]
  }
 ],
 "metadata": {
  "kernelspec": {
   "display_name": "Python 3 (ipykernel)",
   "language": "python",
   "name": "python3"
  },
  "language_info": {
   "codemirror_mode": {
    "name": "ipython",
    "version": 3
   },
   "file_extension": ".py",
   "mimetype": "text/x-python",
   "name": "python",
   "nbconvert_exporter": "python",
   "pygments_lexer": "ipython3",
   "version": "3.8.12"
  }
 },
 "nbformat": 4,
 "nbformat_minor": 5
}
